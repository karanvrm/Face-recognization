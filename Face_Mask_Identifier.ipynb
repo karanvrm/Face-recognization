{
 "cells": [
  {
   "cell_type": "code",
   "execution_count": null,
   "metadata": {},
   "outputs": [],
   "source": [
    "images=[]\n",
    "labels=[]"
   ]
  },
  {
   "cell_type": "code",
   "execution_count": null,
   "metadata": {},
   "outputs": [],
   "source": [
    "import os\n",
    "import cv2\n",
    "import numpy as np"
   ]
  },
  {
   "cell_type": "code",
   "execution_count": null,
   "metadata": {},
   "outputs": [],
   "source": [
    "for i in ['without_mask', 'with_mask']:\n",
    "    imageNameList=os.listdir(\"D:AI/\" + str(i))\n",
    "    for fileName in imageNameList:\n",
    "        Image=cv2.imread(\"D:AI/\" + str(i) + \"/\" + str(fileName))\n",
    "        try:\n",
    "            gray=cv2.cvtColor(Image,cv2.COLOR_BGR2GRAY)\n",
    "            Image=cv2.resize(gray,(100,100))\n",
    "            images.append(Image)\n",
    "            if i==\"without_mask\":\n",
    "                labels.append(0)\n",
    "            else:\n",
    "                labels.append(1)\n",
    "        except:\n",
    "            pass\n",
    "    print(\"Inside folder \", i)"
   ]
  },
  {
   "cell_type": "code",
   "execution_count": null,
   "metadata": {},
   "outputs": [],
   "source": [
    "images=np.array(images)\n",
    "labels=np.array(labels)"
   ]
  },
  {
   "cell_type": "code",
   "execution_count": null,
   "metadata": {},
   "outputs": [],
   "source": [
    "def preprocessing(img):\n",
    "    img=img/255\n",
    "    return img"
   ]
  },
  {
   "cell_type": "code",
   "execution_count": null,
   "metadata": {},
   "outputs": [],
   "source": [
    "images=images/255.0\n",
    "images=np.reshape(images,(images.shape[0],100,100,1))"
   ]
  },
  {
   "cell_type": "code",
   "execution_count": null,
   "metadata": {},
   "outputs": [],
   "source": [
    "from sklearn.model_selection import train_test_split\n",
    "train_features,test_features,train_target,test_target=train_test_split(images,labels,test_size=0.2)\n",
    "train_features=train_features.reshape(train_features.shape[0], train_features.shape[1],train_features.shape[2],1)\n",
    "test_features=test_features.reshape(test_features.shape[0],test_features.shape[1],test_features.shape[2],1)"
   ]
  },
  {
   "cell_type": "code",
   "execution_count": null,
   "metadata": {},
   "outputs": [],
   "source": [
    "from keras.preprocessing.image import ImageDataGenerator\n",
    "dataGenerator=ImageDataGenerator(width_shift_range=0.1,height_shift_range=0.1,zoom_range=0.2,shear_range=0.1,rotation_range=10)\n",
    "dataGenerator.fit(train_features)\n",
    "batches=dataGenerator.flow(train_features,train_target,batch_size=20)\n"
   ]
  },
  {
   "cell_type": "code",
   "execution_count": null,
   "metadata": {},
   "outputs": [],
   "source": [
    "from keras.utils import to_categorical\n",
    "train_target=to_categorical(train_target)\n",
    "test_target=to_categorical(test_target)\n",
    "from keras.models import Sequential\n",
    "from keras.layers import Flatten,Conv2D,MaxPooling2D,Dense,Dropout"
   ]
  },
  {
   "cell_type": "code",
   "execution_count": null,
   "metadata": {},
   "outputs": [],
   "source": [
    "model=Sequential()\n",
    "model.add(Conv2D(64,(3,3),activation=\"relu\",input_shape=(100, 100, 1)))\n",
    "model.add(Conv2D(64,(3,3),activation=\"relu\"))\n",
    "model.add(MaxPooling2D((2,2)))\n",
    "model.add(Conv2D(128,(3,3),activation=\"relu\"))\n",
    "model.add(Conv2D(128,(3,3),activation=\"relu\"))\n",
    "model.add(MaxPooling2D((2,2)))\n",
    "model.add(Flatten())\n",
    "model.add(Dropout(0.5))\n",
    "model.add(Dense(500,activation=\"relu\"))\n",
    "model.add(Dense(2,activation=\"softmax\"))"
   ]
  },
  {
   "cell_type": "code",
   "execution_count": null,
   "metadata": {},
   "outputs": [],
   "source": [
    "from keras.optimizers import Adam\n",
    "model.compile(Adam(lr=0.001),loss=\"categorical_crossentropy\",metrics=[\"accuracy\"])"
   ]
  },
  {
   "cell_type": "code",
   "execution_count": null,
   "metadata": {},
   "outputs": [],
   "source": [
    "fitted_model=model.fit_generator(dataGenerator.flow(train_features,train_target,batch_size=20),epochs=30)\n",
    "model.save('Face_Mask_Detector.h5')"
   ]
  },
  {
   "cell_type": "code",
   "execution_count": null,
   "metadata": {},
   "outputs": [],
   "source": [
    "from keras.models import load_model\n",
    "model=load_model('Face_Mask_Detector.h5')"
   ]
  },
  {
   "cell_type": "code",
   "execution_count": null,
   "metadata": {},
   "outputs": [],
   "source": [
    "def getClassName(classNo):\n",
    "    if   classNo == 0: return 'without_mask'\n",
    "    elif classNo == 1: return 'with_mask'"
   ]
  },
  {
   "cell_type": "code",
   "execution_count": null,
   "metadata": {},
   "outputs": [],
   "source": [
    "cap=cv2.VideoCapture(0)\n",
    "cap.set(3,640)\n",
    "cap.set(4,480)\n",
    "cap.set(10,180)"
   ]
  },
  {
   "cell_type": "code",
   "execution_count": null,
   "metadata": {},
   "outputs": [],
   "source": [
    "face_cascade = cv2.CascadeClassifier('D:/frontalFace10/haarcascade_frontalface_default.xml')\n",
    "font = cv2.FONT_HERSHEY_SIMPLEX\n",
    "while True:\n",
    "    ret,image=cap.read()\n",
    "    grayscale=cv2.cvtColor(image,cv2.COLOR_BGR2GRAY)\n",
    "    faces = face_cascade.detectMultiScale(grayscale, 1.1, 5)\n",
    "    for (x,y,w,h) in faces:\n",
    "        face_img=grayscale[y:y+h,x:x+w]\n",
    "        resised_img=cv2.resize(face_img,(100,100))\n",
    "        normalised_img=preprocessing(resised_img)\n",
    "        reshaped_img=np.reshape(normalised_img,(1,100,100,1))\n",
    "        result=model.predict(reshaped_img)\n",
    "        \n",
    "        classIndex=np.argmax(result,axis=1)[0]\n",
    "        probability=np.amax(result)\n",
    "        if classIndex==0:\n",
    "            cv2.rectangle(image,(x,y),(x+w,y+h),(0,0,255),2)\n",
    "            cv2.putText(image,getClassName(classIndex),(x,y-10),font,1,(0,0,255),2)\n",
    "            cv2.imshow(\"RESULT\",image)\n",
    "        else:\n",
    "            cv2.rectangle(image,(x,y),(x+w,y+h),(0,255,0),2)\n",
    "            cv2.putText(image,getClassName(classIndex),(x,y-10),font,1,(0,255,0),2)\n",
    "            cv2.imshow(\"RESULT\",image)\n",
    "        key=cv2.waitKey(1)\n",
    "        if key==27:\n",
    "            cv2.destroyAllWindows()\n",
    "            cap.release()\n",
    "            break\n",
    "        \n",
    "  "
   ]
  },
  {
   "cell_type": "code",
   "execution_count": null,
   "metadata": {},
   "outputs": [],
   "source": []
  },
  {
   "cell_type": "code",
   "execution_count": null,
   "metadata": {},
   "outputs": [],
   "source": []
  },
  {
   "cell_type": "code",
   "execution_count": null,
   "metadata": {},
   "outputs": [],
   "source": []
  }
 ],
 "metadata": {
  "kernelspec": {
   "display_name": "Python 3",
   "language": "python",
   "name": "python3"
  },
  "language_info": {
   "codemirror_mode": {
    "name": "ipython",
    "version": 3
   },
   "file_extension": ".py",
   "mimetype": "text/x-python",
   "name": "python",
   "nbconvert_exporter": "python",
   "pygments_lexer": "ipython3",
   "version": "3.8.5"
  }
 },
 "nbformat": 4,
 "nbformat_minor": 4
}
